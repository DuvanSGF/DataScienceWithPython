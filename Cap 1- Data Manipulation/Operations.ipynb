{
  "nbformat": 4,
  "nbformat_minor": 0,
  "metadata": {
    "colab": {
      "name": "Operations.ipynb",
      "provenance": [],
      "collapsed_sections": []
    },
    "kernelspec": {
      "name": "python3",
      "display_name": "Python 3"
    }
  },
  "cells": [
    {
      "cell_type": "markdown",
      "metadata": {
        "id": "hgXOG31Xlpw3",
        "colab_type": "text"
      },
      "source": [
        "**Mathematical Operations on Arrays**\n",
        "Realizar operaciones matemáticas en matrices es sencillo. Por ejemplo, para convertir las alturas de centímetros a pies, sabiendo que 1 centímetro es igual a 0,0328084 pies, podemos usar la multiplicación:\n"
      ]
    },
    {
      "cell_type": "markdown",
      "metadata": {
        "id": "V_C5T6VnG9Vf",
        "colab_type": "text"
      },
      "source": [
        ""
      ]
    },
    {
      "cell_type": "code",
      "metadata": {
        "id": "BQEWaMDdl7gQ",
        "colab_type": "code",
        "colab": {
          "base_uri": "https://localhost:8080/",
          "height": 146
        },
        "outputId": "71d23812-d868-4d46-a4b2-037015b2c58c"
      },
      "source": [
        "import numpy as np\n",
        "\n",
        "heights_arr = np.array([189, 170, 189, 163, 183, 171, 185, 168, 173, 183, 173, 173, 175, 178, 183, 193, 178, 173, 174, 183, 183, 180, 168, 180, 170, 178, 182, 180, 183, 178, 182, 188, 175, 179, 183, 193, 182, 183, 177, 185, 188, 188, 182, 185, 191])\n",
        "ages_arr = np.array([57, 61, 57, 57, 58, 57, 61, 54, 68, 51, 49, 64, 50, 48, 65, 52, 56, 46, 54, 49, 51, 47, 55, 55, 54, 42, 51, 56, 55, 51, 54, 51, 60, 62, 43, 55, 56, 61, 52, 69, 64, 46, 54, 47, 70]).reshape((-1,1))\n",
        "\n",
        "heights_arr = heights_arr.reshape((45,1))\n",
        "height_age_arr = np.hstack((heights_arr, ages_arr))\n",
        "\n",
        "print(height_age_arr[:,0]*0.0328084)"
      ],
      "execution_count": null,
      "outputs": [
        {
          "output_type": "stream",
          "text": [
            "[6.2007876 5.577428  6.2007876 5.3477692 6.0039372 5.6102364 6.069554\n",
            " 5.5118112 5.6758532 6.0039372 5.6758532 5.6758532 5.74147   5.8398952\n",
            " 6.0039372 6.3320212 5.8398952 5.6758532 5.7086616 6.0039372 6.0039372\n",
            " 5.905512  5.5118112 5.905512  5.577428  5.8398952 5.9711288 5.905512\n",
            " 6.0039372 5.8398952 5.9711288 6.1679792 5.74147   5.8727036 6.0039372\n",
            " 6.3320212 5.9711288 6.0039372 5.8070868 6.069554  6.1679792 6.1679792\n",
            " 5.9711288 6.069554  6.2664044]\n"
          ],
          "name": "stdout"
        }
      ]
    },
    {
      "cell_type": "markdown",
      "metadata": {
        "id": "x5B5tST6mPsA",
        "colab_type": "text"
      },
      "source": [
        "Otras operaciones matemáticas de suma, resta, división y potencia (+, -, /, **) funcionan de la misma manera en los conjuntos."
      ]
    },
    {
      "cell_type": "markdown",
      "metadata": {
        "id": "HWnC1F5Umy7A",
        "colab_type": "text"
      },
      "source": [
        "**Numpy Array Method**\n",
        "\n",
        "*In addition, there are several methods in numpy to perform more complex calculations on arrays. For example, the sum() method finds the sum of all the elements in an array:*\n",
        "\n"
      ]
    },
    {
      "cell_type": "markdown",
      "metadata": {
        "id": "5dJi82fn9zJD",
        "colab_type": "text"
      },
      "source": [
        "\n",
        "sobre reshape.numpy\n",
        "---https://numpy.org/doc/stable/reference/generated/numpy.reshape.html\n",
        "\n"
      ]
    },
    {
      "cell_type": "code",
      "metadata": {
        "id": "FOqjATmXpttv",
        "colab_type": "code",
        "colab": {
          "base_uri": "https://localhost:8080/",
          "height": 35
        },
        "outputId": "410e38c7-d9a7-400c-9a07-ed9523fe279a"
      },
      "source": [
        "import numpy as np\n",
        "\n",
        "heights_arr = np.array([189, 170, 189, 163, 183, 171, 185, 168, 173, 183, 173, 173, 175, 178, 183, 193, 178, 173, 174, 183, 183, 180, 168, 180, 170, 178, 182, 180, 183, 178, 182, 188, 175, 179, 183, 193, 182, 183, 177, 185, 188, 188, 182, 185, 191])\n",
        "ages_arr = np.array([57, 61, 57, 57, 58, 57, 61, 54, 68, 51, 49, 64, 50, 48, 65, 52, 56, 46, 54, 49, 51, 47, 55, 55, 54, 42, 51, 56, 55, 51, 54, 51, 60, 62, 43, 55, 56, 61, 52, 69, 64, 46, 54, 47, 70]).reshape((-1,1))\n",
        "\n",
        "heights_arr = heights_arr.reshape((45,1))\n",
        "height_age_arr = np.hstack((heights_arr, ages_arr))\n",
        "\n",
        "print(height_age_arr.sum())"
      ],
      "execution_count": null,
      "outputs": [
        {
          "output_type": "stream",
          "text": [
            "10575\n"
          ],
          "name": "stdout"
        }
      ]
    },
    {
      "cell_type": "markdown",
      "metadata": {
        "id": "CRbPYyFtqBNg",
        "colab_type": "text"
      },
      "source": [
        "Ahora si queremos hacer la suma de las edades y de las alturas de forma separada podemos hacer lo siguiente"
      ]
    },
    {
      "cell_type": "code",
      "metadata": {
        "id": "CAvU0TanqP7m",
        "colab_type": "code",
        "colab": {
          "base_uri": "https://localhost:8080/",
          "height": 35
        },
        "outputId": "269ee1d3-4470-40ee-d02c-abf333303d4e"
      },
      "source": [
        "import numpy as np\n",
        "\n",
        "heights_arr = np.array([189, 170, 189, 163, 183, 171, 185, 168, 173, 183, 173, 173, 175, 178, 183, 193, 178, 173, 174, 183, 183, 180, 168, 180, 170, 178, 182, 180, 183, 178, 182, 188, 175, 179, 183, 193, 182, 183, 177, 185, 188, 188, 182, 185, 191])\n",
        "ages_arr = np.array([57, 61, 57, 57, 58, 57, 61, 54, 68, 51, 49, 64, 50, 48, 65, 52, 56, 46, 54, 49, 51, 47, 55, 55, 54, 42, 51, 56, 55, 51, 54, 51, 60, 62, 43, 55, 56, 61, 52, 69, 64, 46, 54, 47, 70]).reshape((-1,1))\n",
        "\n",
        "heights_arr = heights_arr.reshape((45,1))\n",
        "height_age_arr = np.hstack((heights_arr, ages_arr))\n",
        "\n",
        "print(height_age_arr.sum(axis=0))\n",
        "\n",
        "\"\"\"\n",
        "The output is the row sums: heights of all presidents (i.e., the first row) add up to 8100, and the sum of ages (i.e., the second row) is 2475.\n",
        "Other operations, such as .min(), .max(), .mean(), work in a similar way to .sum().\n",
        "\"\"\""
      ],
      "execution_count": null,
      "outputs": [
        {
          "output_type": "stream",
          "text": [
            "[8100 2475]\n"
          ],
          "name": "stdout"
        }
      ]
    },
    {
      "cell_type": "markdown",
      "metadata": {
        "id": "_FLu-VZYrMB6",
        "colab_type": "text"
      },
      "source": [
        "**Comparisons**\n",
        "\n",
        "En la práctica de la ciencia de los datos, a menudo encontramos comparaciones para identificar filas que coinciden con ciertos valores. Podemos utilizar operaciones como \"<\", \">\", \">=\", \"<=\" y \"==\" para hacerlo. Por ejemplo, en el conjunto de datos height_age_arr, podríamos estar interesados sólo en aquellos presidentes que comenzaron su presidencia con menos de 55 años."
      ]
    },
    {
      "cell_type": "code",
      "metadata": {
        "id": "PJIsXC6GrakK",
        "colab_type": "code",
        "colab": {}
      },
      "source": [
        "import numpy as np\n",
        "\n",
        "heights_arr = np.array([189, 170, 189, 163, 183, 171, 185, 168, 173, 183, 173, 173, 175, 178, 183, 193, 178, 173, 174, 183, 183, 180, 168, 180, 170, 178, 182, 180, 183, 178, 182, 188, 175, 179, 183, 193, 182, 183, 177, 185, 188, 188, 182, 185, 191])\n",
        "ages_arr = np.array([57, 61, 57, 57, 58, 57, 61, 54, 68, 51, 49, 64, 50, 48, 65, 52, 56, 46, 54, 49, 51, 47, 55, 55, 54, 42, 51, 56, 55, 51, 54, 51, 60, 62, 43, 55, 56, 61, 52, 69, 64, 46, 54, 47, 70]).reshape((-1,1))\n",
        "\n",
        "heights_arr = heights_arr.reshape((45,1))\n",
        "height_age_arr = np.hstack((heights_arr, ages_arr))\n",
        "\n",
        "print(height_age_arr[:, 1] < 55)\n",
        "\n",
        "\"\"\"\n",
        "To find out how many rows satisfy the condition, use .sum() on the resultant 1d boolean array,\n",
        "e.g., (height_age_arr[:, 1] == 51).sum(), to see that there were exactly five presidents who \n",
        "started the presidency at age 51. True is treated as 1 and False as 0 in the sum.\n",
        "\"\"\""
      ],
      "execution_count": null,
      "outputs": []
    },
    {
      "cell_type": "markdown",
      "metadata": {
        "id": "v0ITr2g-HAEr",
        "colab_type": "text"
      },
      "source": [
        "\n",
        "**Máscara y subconjunto**\n",
        "\n",
        "Ahora que se pueden identificar las filas que coinciden con ciertos criterios, se puede encontrar un subconjunto de los datos. Por ejemplo, en lugar del conjunto de datos completo, queremos sólo presidentes altos, es decir, aquellos presidentes cuya altura es mayor o igual a 182 cm. Primero creamos una máscara, 1darray con valores booleanos:"
      ]
    },
    {
      "cell_type": "code",
      "metadata": {
        "id": "fE1X3H7BHFk7",
        "colab_type": "code",
        "colab": {
          "base_uri": "https://localhost:8080/",
          "height": 35
        },
        "outputId": "c1fd29ea-3535-4993-d971-c7774c310fc1"
      },
      "source": [
        "import numpy as np\n",
        "\n",
        "heights_arr = np.array([189, 170, 189, 163, 183, 171, 185, 168, 173, 183, 173, 173, 175, 178, 183, 193, 178, 173, 174, 183, 183, 180, 168, 180, 170, 178, 182, 180, 183, 178, 182, 188, 175, 179, 183, 193, 182, 183, 177, 185, 188, 188, 182, 185, 191])\n",
        "ages_arr = np.array([57, 61, 57, 57, 58, 57, 61, 54, 68, 51, 49, 64, 50, 48, 65, 52, 56, 46, 54, 49, 51, 47, 55, 55, 54, 42, 51, 56, 55, 51, 54, 51, 60, 62, 43, 55, 56, 61, 52, 69, 64, 46, 54, 47, 70]).reshape((-1,1))\n",
        "\n",
        "heights_arr = heights_arr.reshape((45,1))\n",
        "height_age_arr = np.hstack((heights_arr, ages_arr))\n",
        "\n",
        "mask = height_age_arr[:, 0] >= 182\n",
        "print(mask.sum())\n"
      ],
      "execution_count": 2,
      "outputs": [
        {
          "output_type": "stream",
          "text": [
            "23\n"
          ],
          "name": "stdout"
        }
      ]
    },
    {
      "cell_type": "code",
      "metadata": {
        "id": "05dg91pSH8PP",
        "colab_type": "code",
        "colab": {
          "base_uri": "https://localhost:8080/",
          "height": 35
        },
        "outputId": "98963dff-9a75-43fe-8fc7-035a798ac1e6"
      },
      "source": [
        "# Ahora tambien lo poedmos hacer para las edades. \n",
        "# Ejemplo vamos a contar cunatos presindetes fueron mayores de 60\n",
        "import numpy as np\n",
        "\n",
        "heights_arr = np.array([189, 170, 189, 163, 183, 171, 185, 168, 173, 183, 173, 173, 175, 178, 183, 193, 178, 173, 174, 183, 183, 180, 168, 180, 170, 178, 182, 180, 183, 178, 182, 188, 175, 179, 183, 193, 182, 183, 177, 185, 188, 188, 182, 185, 191])\n",
        "ages_arr = np.array([57, 61, 57, 57, 58, 57, 61, 54, 68, 51, 49, 64, 50, 48, 65, 52, 56, 46, 54, 49, 51, 47, 55, 55, 54, 42, 51, 56, 55, 51, 54, 51, 60, 62, 43, 55, 56, 61, 52, 69, 64, 46, 54, 47, 70]).reshape((-1,1))\n",
        "\n",
        "heights_arr = heights_arr.reshape((45,1))\n",
        "height_age_arr = np.hstack((heights_arr, ages_arr))\n",
        "\n",
        "mask = height_age_arr[:, 1] >= 60\n",
        "print(mask.sum())\n"
      ],
      "execution_count": 3,
      "outputs": [
        {
          "output_type": "stream",
          "text": [
            "11\n"
          ],
          "name": "stdout"
        }
      ]
    },
    {
      "cell_type": "markdown",
      "metadata": {
        "id": "hpftklrpLoCS",
        "colab_type": "text"
      },
      "source": [
        ""
      ]
    },
    {
      "cell_type": "code",
      "metadata": {
        "id": "5xhYmOqCLoz8",
        "colab_type": "code",
        "colab": {
          "base_uri": "https://localhost:8080/",
          "height": 35
        },
        "outputId": "a0a80c72-db4e-4a89-b0bd-a96d771eeff9"
      },
      "source": [
        "\"\"\"\n",
        "Ahora imprimimos los valores y tambien el numero de array. \n",
        "Ejemplo: los mayores de altura son 23, y los array son 2 .\n",
        "\"\"\"\n",
        "import numpy as np\n",
        "\n",
        "heights_arr = np.array([189, 170, 189, 163, 183, 171, 185, 168, 173, 183, 173, 173, 175, 178, 183, 193, 178, 173, 174, 183, 183, 180, 168, 180, 170, 178, 182, 180, 183, 178, 182, 188, 175, 179, 183, 193, 182, 183, 177, 185, 188, 188, 182, 185, 191])\n",
        "ages_arr = np.array([57, 61, 57, 57, 58, 57, 61, 54, 68, 51, 49, 64, 50, 48, 65, 52, 56, 46, 54, 49, 51, 47, 55, 55, 54, 42, 51, 56, 55, 51, 54, 51, 60, 62, 43, 55, 56, 61, 52, 69, 64, 46, 54, 47, 70]).reshape((-1,1))\n",
        "\n",
        "heights_arr = heights_arr.reshape((45,1))\n",
        "height_age_arr = np.hstack((heights_arr, ages_arr))\n",
        "\n",
        "mask = height_age_arr[:, 0] >= 182\n",
        "tall_presidents = height_age_arr[mask, ]\n",
        "tall_presidents.shape\n",
        "\n",
        "print(tall_presidents.shape)"
      ],
      "execution_count": 4,
      "outputs": [
        {
          "output_type": "stream",
          "text": [
            "(23, 2)\n"
          ],
          "name": "stdout"
        }
      ]
    },
    {
      "cell_type": "markdown",
      "metadata": {
        "id": "1qg4babOMN29",
        "colab_type": "text"
      },
      "source": [
        "\n",
        "\n",
        "> Masking is used to extract, modify, count, or otherwise manipulate values in an array based on some criterion. In our example, the criteria was height of 182cm or taller. \n",
        "\n"
      ]
    },
    {
      "cell_type": "markdown",
      "metadata": {
        "id": "at3d-1w7MohQ",
        "colab_type": "text"
      },
      "source": [
        "**Multiple Criteria**\n",
        "\n",
        "Podemos crear una máscara que satisfaga más de un criterio. Por ejemplo, además de la altura, queremos encontrar a los presidentes que tenían 50 años o menos al principio de su presidencia. Para lograr esto, usamos & para separar las condiciones y cada condición se encapsula con paréntesis \"()\" como se muestra a continuación:"
      ]
    },
    {
      "cell_type": "code",
      "metadata": {
        "id": "3UQrgeqvNNRI",
        "colab_type": "code",
        "colab": {
          "base_uri": "https://localhost:8080/",
          "height": 90
        },
        "outputId": "ee9d3f37-aa1b-4d31-ab4a-74e8fdb56844"
      },
      "source": [
        "import numpy as np\n",
        "\n",
        "heights_arr = np.array([189, 170, 189, 163, 183, 171, 185, 168, 173, 183, 173, 173, 175, 178, 183, 193, 178, 173, 174, 183, 183, 180, 168, 180, 170, 178, 182, 180, 183, 178, 182, 188, 175, 179, 183, 193, 182, 183, 177, 185, 188, 188, 182, 185, 191])\n",
        "ages_arr = np.array([57, 61, 57, 57, 58, 57, 61, 54, 68, 51, 49, 64, 50, 48, 65, 52, 56, 46, 54, 49, 51, 47, 55, 55, 54, 42, 51, 56, 55, 51, 54, 51, 60, 62, 43, 55, 56, 61, 52, 69, 64, 46, 54, 47, 70]).reshape((-1,1))\n",
        "\n",
        "heights_arr = heights_arr.reshape((45,1))\n",
        "height_age_arr = np.hstack((heights_arr, ages_arr))\n",
        "\n",
        "mask = (height_age_arr[:, 0]>=182) & (height_age_arr[:,1]<=50)\n",
        "\n",
        "# El resulado son 4 presidentes que cumplen las condiciones.\n",
        "print(height_age_arr[mask,])"
      ],
      "execution_count": 5,
      "outputs": [
        {
          "output_type": "stream",
          "text": [
            "[[183  49]\n",
            " [183  43]\n",
            " [188  46]\n",
            " [185  47]]\n"
          ],
          "name": "stdout"
        }
      ]
    },
    {
      "cell_type": "markdown",
      "metadata": {
        "id": "ILXtNPdvNl0N",
        "colab_type": "text"
      },
      "source": [
        "Data manipulation in Python is nearly synonymous with Numpy array manipulation. Operations shown here are the building blocks of many other examples used throughout this course. It is important to master them!"
      ]
    }
  ]
}
