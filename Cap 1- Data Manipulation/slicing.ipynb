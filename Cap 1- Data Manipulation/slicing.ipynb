{
  "nbformat": 4,
  "nbformat_minor": 0,
  "metadata": {
    "colab": {
      "name": "Untitled2.ipynb",
      "provenance": []
    },
    "kernelspec": {
      "name": "python3",
      "display_name": "Python 3"
    }
  },
  "cells": [
    {
      "cell_type": "code",
      "metadata": {
        "id": "ugrj2rYuhUgc",
        "colab_type": "code",
        "colab": {
          "base_uri": "https://localhost:8080/",
          "height": 35
        },
        "outputId": "e1214116-2461-48c2-d515-cfee5d746a5f"
      },
      "source": [
        "\"\"\"\n",
        "Slicing\n",
        "\n",
        "¿Y si queremos inspeccionar los tres primeros elementos de la primera fila en un 2darray? Usamos \":\" para seleccionar todos los elementos del índice hasta pero sin incluir el índice final.\n",
        "Esto se llama rebanar.\n",
        "\"\"\"\n",
        "import numpy as np\n",
        "\n",
        "heights = [189, 170, 189, 163, 183, 171, 185, 168, 173, 183, 173, 173, 175, 178, 183, 193, 178, 173, 174, 183, 183, 180, 168, 180, 170, 178, 182, 180, 183, 178, 182, 188, 175, 179, 183, 193, 182, 183, 177, 185, 188, 188, 182, 185, 191]\n",
        "\n",
        "ages = [57, 61, 57, 57, 58, 57, 61, 54, 68, 51, 49, 64, 50, 48, 65, 52, 56, 46, 54, 49, 51, 47, 55, 55, 54, 42, 51, 56, 55, 51, 54, 51, 60, 62, 43, 55, 56, 61, 52, 69, 64, 46, 54, 47, 70]\n",
        "\n",
        "heights_and_ages = heights + ages\n",
        "heights_and_ages_arr = np.array(heights_and_ages)\n",
        "heights_and_ages_arr = heights_and_ages_arr.reshape((2,45))\n",
        "print(heights_and_ages_arr[0, 0:3])"
      ],
      "execution_count": 1,
      "outputs": [
        {
          "output_type": "stream",
          "text": [
            "[189 170 189]\n"
          ],
          "name": "stdout"
        }
      ]
    },
    {
      "cell_type": "code",
      "metadata": {
        "id": "c1bLd7A7mE3Z",
        "colab_type": "code",
        "colab": {
          "base_uri": "https://localhost:8080/",
          "height": 35
        },
        "outputId": "e9776aa2-5564-4dc6-9344-ce60f162358b"
      },
      "source": [
        "\"\"\"\n",
        "Mi ejercicio para entender\n",
        "\"\"\"\n",
        "import numpy as np\n",
        "\n",
        "ventas = [189, 170, 189, 163, 182, 185, 191]\n",
        "\n",
        "vendedores = [57, 61, 57, 57, 58, 57, 61 ]\n",
        "\n",
        "ventas_y_vendedores = ventas + vendedores\n",
        "ventas_y_vendedores_arr = np.array(ventas_y_vendedores)\n",
        "ventas_y_vendedores_arr = ventas_y_vendedores_arr.reshape((2,7))\n",
        "print(ventas_y_vendedores_arr[1, 0:3])\n"
      ],
      "execution_count": 2,
      "outputs": [
        {
          "output_type": "stream",
          "text": [
            "[57 61 57]\n"
          ],
          "name": "stdout"
        }
      ]
    },
    {
      "cell_type": "code",
      "metadata": {
        "id": "Ue_cwhOqjpTH",
        "colab_type": "code",
        "colab": {}
      },
      "source": [
        ""
      ],
      "execution_count": null,
      "outputs": []
    }
  ]
}