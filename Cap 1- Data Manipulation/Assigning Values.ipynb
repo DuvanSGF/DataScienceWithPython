{
  "nbformat": 4,
  "nbformat_minor": 0,
  "metadata": {
    "colab": {
      "name": "Untitled3.ipynb",
      "provenance": [],
      "collapsed_sections": []
    },
    "kernelspec": {
      "name": "python3",
      "display_name": "Python 3"
    }
  },
  "cells": [
    {
      "cell_type": "code",
      "metadata": {
        "id": "X6HQYzBQo3Ef",
        "colab_type": "code",
        "colab": {
          "base_uri": "https://localhost:8080/",
          "height": 35
        },
        "outputId": "5f4ba3ab-0511-48ae-fb71-85289554dbed"
      },
      "source": [
        "\"\"\"\n",
        "Assigning Single Values\n",
        "\n",
        "Vamos un valor en un posicion dada.\n",
        "Ejemplo en la columna 5  lo vamos a cambiar el 183 por 100\n",
        "\"\"\"\n",
        "import numpy as np\n",
        "\n",
        "heights = [189, 170, 189, 163, 183, 171, 185]\n",
        "\n",
        "heights_arr = np.array(heights)\n",
        "heights_arr[4] = 100\n",
        "print(heights_arr)"
      ],
      "execution_count": 1,
      "outputs": [
        {
          "output_type": "stream",
          "text": [
            "[189 170 189 163 100 171 185]\n"
          ],
          "name": "stdout"
        }
      ]
    },
    {
      "cell_type": "code",
      "metadata": {
        "id": "TMV9ExO1qPCX",
        "colab_type": "code",
        "colab": {
          "base_uri": "https://localhost:8080/",
          "height": 127
        },
        "outputId": "17a90c3e-7f1b-449b-94ff-7ce20d3ec49e"
      },
      "source": [
        "# Ahora vamos a cambir todos los valores del array 1 a 180\n",
        "import numpy as np\n",
        "\n",
        "heights = [189, 170, 189, 163, 183, 171, 185, 168, 173, 183, 173, 173, 175, 178, 183, 193, 178, 173, 174, 183, 183, 180, 168, 180, 170, 178, 182, 180, 183, 178, 182, 188, 175, 179, 183, 193, 182, 183, 177, 185, 188, 188, 182, 185, 191]\n",
        "\n",
        "ages = [57, 61, 57, 57, 58, 57, 61, 54, 68, 51, 49, 64, 50, 48, 65, 52, 56, 46, 54, 49, 51, 47, 55, 55, 54, 42, 51, 56, 55, 51, 54, 51, 60, 62, 43, 55, 56, 61, 52, 69, 64, 46, 54, 47, 70]\n",
        "\n",
        "heights_and_ages = heights + ages \n",
        "heights_and_ages_arr = np.array(heights_and_ages)\n",
        "heights_and_ages_arr = heights_and_ages_arr.reshape((2,45))\n",
        "\n",
        "heights_and_ages_arr[0,:] = 180\n",
        "print(heights_and_ages_arr)"
      ],
      "execution_count": 2,
      "outputs": [
        {
          "output_type": "stream",
          "text": [
            "[[180 180 180 180 180 180 180 180 180 180 180 180 180 180 180 180 180 180\n",
            "  180 180 180 180 180 180 180 180 180 180 180 180 180 180 180 180 180 180\n",
            "  180 180 180 180 180 180 180 180 180]\n",
            " [ 57  61  57  57  58  57  61  54  68  51  49  64  50  48  65  52  56  46\n",
            "   54  49  51  47  55  55  54  42  51  56  55  51  54  51  60  62  43  55\n",
            "   56  61  52  69  64  46  54  47  70]]\n"
          ],
          "name": "stdout"
        }
      ]
    },
    {
      "cell_type": "code",
      "metadata": {
        "id": "7MzNFJiKqfDR",
        "colab_type": "code",
        "colab": {}
      },
      "source": [
        "#Ahora si queremos cambiar los dos primeros valores de ambos array a la vez \n",
        "import numpy as np\n",
        "\n",
        "heights = [189, 170, 189, 163, 183, 171, 185, 168, 173, 183, 173, 173, 175, 178, 183, 193, 178, 173, 174, 183, 183, 180, 168, 180, 170, 178, 182, 180, 183, 178, 182, 188, 175, 179, 183, 193, 182, 183, 177, 185, 188, 188, 182, 185, 191]\n",
        "\n",
        "ages = [57, 61, 57, 57, 58, 57, 61, 54, 68, 51, 49, 64, 50, 48, 65, 52, 56, 46, 54, 49, 51, 47, 55, 55, 54, 42, 51, 56, 55, 51, 54, 51, 60, 62, 43, 55, 56, 61, 52, 69, 64, 46, 54, 47, 70]\n",
        "\n",
        "heights_and_ages = heights + ages\n",
        "heights_and_ages_arr = np.array(heights_and_ages)\n",
        "heights_and_ages_arr = heights_and_ages_arr.reshape((2,45))\n",
        "\n",
        "heights_and_ages_arr[:2, :2] = 0\n",
        "print(heights_and_ages_arr)"
      ],
      "execution_count": null,
      "outputs": []
    },
    {
      "cell_type": "code",
      "metadata": {
        "id": "m04u4jUbrN6F",
        "colab_type": "code",
        "colab": {}
      },
      "source": [
        "\n",
        "\n",
        "#Ejercicio::::Replace the value in the second row and third column of the array heights_and_ages_arr with 2.\n",
        "\n",
        "heights_and_ages_arr[1, 2] = 2\n"
      ],
      "execution_count": null,
      "outputs": []
    },
    {
      "cell_type": "markdown",
      "metadata": {
        "id": "UOvYu3HWsbi5",
        "colab_type": "text"
      },
      "source": [
        "**Assigning an Array to an Array**\n",
        "\n",
        "Además, un 1darray o un 2darry pueden ser asignados a un subconjunto de otro 2darray, siempre y cuando sus formas coincidan. Recuerda el 2darray de alturas_y_edades_arr:"
      ]
    },
    {
      "cell_type": "markdown",
      "metadata": {
        "id": "DK9OwVGrtVFU",
        "colab_type": "text"
      },
      "source": [
        "Si nostros querermos actulaizar la altura y la edad del primer presidente debemos realizar lo siguiente. "
      ]
    },
    {
      "cell_type": "code",
      "metadata": {
        "id": "D5crvL5Rtk7z",
        "colab_type": "code",
        "colab": {
          "base_uri": "https://localhost:8080/",
          "height": 127
        },
        "outputId": "f5f29ccb-b8f0-4f59-b0c3-7771397499d2"
      },
      "source": [
        "import numpy as np\n",
        "\n",
        "heights = [189, 170, 189, 163, 183, 171, 185, 168, 173, 183, 173, 173, 175, 178, 183, 193, 178, 173, 174, 183, 183, 180, 168, 180, 170, 178, 182, 180, 183, 178, 182, 188, 175, 179, 183, 193, 182, 183, 177, 185, 188, 188, 182, 185, 191]\n",
        "\n",
        "ages = [57, 61, 57, 57, 58, 57, 61, 54, 68, 51, 49, 64, 50, 48, 65, 52, 56, 46, 54, 49, 51, 47, 55, 55, 54, 42, 51, 56, 55, 51, 54, 51, 60, 62, 43, 55, 56, 61, 52, 69, 64, 46, 54, 47, 70]\n",
        "\n",
        "heights_and_ages = heights + ages\n",
        "heights_and_ages_arr = np.array(heights_and_ages)\n",
        "heights_and_ages_arr = heights_and_ages_arr.reshape((2,45))\n",
        "\n",
        "heights_and_ages_arr[:, 0] = [190, 58]\n",
        "print(heights_and_ages_arr)"
      ],
      "execution_count": 3,
      "outputs": [
        {
          "output_type": "stream",
          "text": [
            "[[190 170 189 163 183 171 185 168 173 183 173 173 175 178 183 193 178 173\n",
            "  174 183 183 180 168 180 170 178 182 180 183 178 182 188 175 179 183 193\n",
            "  182 183 177 185 188 188 182 185 191]\n",
            " [ 58  61  57  57  58  57  61  54  68  51  49  64  50  48  65  52  56  46\n",
            "   54  49  51  47  55  55  54  42  51  56  55  51  54  51  60  62  43  55\n",
            "   56  61  52  69  64  46  54  47  70]]\n"
          ],
          "name": "stdout"
        }
      ]
    },
    {
      "cell_type": "markdown",
      "metadata": {
        "id": "vA9rnLt-M3Nt",
        "colab_type": "text"
      },
      "source": [
        "\n",
        "\n",
        "```\n",
        "Podemos agregar tambien mas datos como un subarray al final de la siguiente forma\n",
        "```\n",
        "\n",
        "\n"
      ]
    },
    {
      "cell_type": "code",
      "metadata": {
        "id": "uQgmVYxhNqtE",
        "colab_type": "code",
        "colab": {
          "base_uri": "https://localhost:8080/",
          "height": 127
        },
        "outputId": "02e07107-38e1-4b4c-9c98-d3ee3111d922"
      },
      "source": [
        "import numpy as np\n",
        "\n",
        "heights = [189, 170, 189, 163, 183, 171, 185, 168, 173, 183, 173, 173, 175, 178, 183, 193, 178, 173, 174, 183, 183, 180, 168, 180, 170, 178, 182, 180, 183, 178, 182, 188, 175, 179, 183, 193, 182, 183, 177, 185, 188, 188, 182, 185, 191]\n",
        "\n",
        "ages = [57, 61, 57, 57, 58, 57, 61, 54, 68, 51, 49, 64, 50, 48, 65, 52, 56, 46, 54, 49, 51, 47, 55, 55, 54, 42, 51, 56, 55, 51, 54, 51, 60, 62, 43, 55, 56, 61, 52, 69, 64, 46, 54, 47, 70]\n",
        "\n",
        "heights_and_ages = heights + ages\n",
        "heights_and_ages_arr = np.array(heights_and_ages)\n",
        "heights_and_ages_arr = heights_and_ages_arr.reshape((2,45))\n",
        "\n",
        "new_record = np.array([[180, 183, 190], [54, 50, 69]])\n",
        "heights_and_ages_arr[:, 42:] = new_record\n",
        "print(heights_and_ages_arr)"
      ],
      "execution_count": 4,
      "outputs": [
        {
          "output_type": "stream",
          "text": [
            "[[189 170 189 163 183 171 185 168 173 183 173 173 175 178 183 193 178 173\n",
            "  174 183 183 180 168 180 170 178 182 180 183 178 182 188 175 179 183 193\n",
            "  182 183 177 185 188 188 180 183 190]\n",
            " [ 57  61  57  57  58  57  61  54  68  51  49  64  50  48  65  52  56  46\n",
            "   54  49  51  47  55  55  54  42  51  56  55  51  54  51  60  62  43  55\n",
            "   56  61  52  69  64  46  54  50  69]]\n"
          ],
          "name": "stdout"
        }
      ]
    },
    {
      "cell_type": "code",
      "metadata": {
        "id": "KzbFgv51P-uy",
        "colab_type": "code",
        "colab": {
          "base_uri": "https://localhost:8080/",
          "height": 35
        },
        "outputId": "45890e9b-a021-4e9e-dab4-4507fa6ca9de"
      },
      "source": [
        "import numpy as np\n",
        "\n",
        "heights = [189, 170, 189, 163, 183, 171, 185, 168, 173, 183, 173, 173, 175, 178, 183, 193, 178, 173, 174, 183, 183, 180, 168, 180, 170, 178, 182, 180, 183, 178, 182, 188, 175, 179, 183, 193, 182, 183, 177, 185, 188, 188, 182, 185, 191]\n",
        "\n",
        "ages = [57, 61, 57, 57, 58, 57, 61, 54, 68, 51, 49, 64, 50, 48, 65, 52, 56, 46, 54, 49, 51, 47, 55, 55, 54, 42, 51, 56, 55, 51, 54, 51, 60, 62, 43, 55, 56, 61, 52, 69, 64, 46, 54, 47, 70]\n",
        "\n",
        "heights_and_ages = heights + ages\n",
        "heights_and_ages_arr = np.array(heights_and_ages)\n",
        "heights_and_ages_arr = heights_and_ages_arr.reshape((2,45))\n",
        "\n",
        "new_record = np.array([[180, 183, 190], [54, 50, 69]])\n",
        "print(new_record.shape)\n",
        "# >>> (2,3)\n"
      ],
      "execution_count": 5,
      "outputs": [
        {
          "output_type": "stream",
          "text": [
            "(2, 3)\n"
          ],
          "name": "stdout"
        }
      ]
    },
    {
      "cell_type": "markdown",
      "metadata": {
        "id": "J6OdDFpXQrhP",
        "colab_type": "text"
      },
      "source": [
        "**Combining Two Arrays**\n",
        "\n",
        "A menudo obtenemos datos almacenados en diferentes matrices y necesitamos combinarlos en una para mantenerlos en un solo lugar. Por ejemplo, en lugar de tener las edades almacenadas en una lista, podría ser almacenado en un 2darray:\n",
        "\n",
        "En el siguiente codigo vamos crear un array nuevo con los tres \n",
        "primeros datos de cada array. \n",
        "\n",
        "Importante la funcion vstack\n",
        "\n"
      ]
    },
    {
      "cell_type": "code",
      "metadata": {
        "id": "TIDkpwe0XcPQ",
        "colab_type": "code",
        "colab": {
          "base_uri": "https://localhost:8080/",
          "height": 90
        },
        "outputId": "041f8bc3-6b4f-4a8e-da9b-f56698ad0bdf"
      },
      "source": [
        "import numpy as np\n",
        "\n",
        "heights = [189, 170, 189, 163, 183, 171, 185, 168, 173, 183, 173, 173, 175, 178, 183, 193, 178, 173, 174, 183, 183, 180, 168, 180, 170, 178, 182, 180, 183, 178, 182, 188, 175, 179, 183, 193, 182, 183, 177, 185, 188, 188, 182, 185, 191]\n",
        "ages = [57, 61, 57, 57, 58, 57, 61, 54, 68, 51, 49, 64, 50, 48, 65, 52, 56, 46, 54, 49, 51, 47, 55, 55, 54, 42, 51, 56, 55, 51, 54, 51, 60, 62, 43, 55, 56, 61, 52, 69, 64, 46, 54, 47, 70]\n",
        "\n",
        "heights_arr = np.array(heights)\n",
        "ages_arr = np.array(ages)\n",
        "\n",
        "heights_arr = heights_arr.reshape((45,1))\n",
        "ages_arr = ages_arr.reshape((45,1))\n",
        "\n",
        "height_age_arr = np.hstack((heights_arr, ages_arr))\n",
        "print(height_age_arr.shape)\n",
        "print(height_age_arr[:3,])"
      ],
      "execution_count": 6,
      "outputs": [
        {
          "output_type": "stream",
          "text": [
            "(45, 2)\n",
            "[[189  57]\n",
            " [170  61]\n",
            " [189  57]]\n"
          ],
          "name": "stdout"
        }
      ]
    },
    {
      "cell_type": "code",
      "metadata": {
        "id": "UUgmNSl0aZTh",
        "colab_type": "code",
        "colab": {
          "base_uri": "https://localhost:8080/",
          "height": 72
        },
        "outputId": "ddcbb672-8b93-42de-9334-feea86214a7f"
      },
      "source": [
        "\"\"\"\n",
        "Aqui creamos el mismo array con dos dimensiones. \n",
        "\"\"\"\n",
        "import numpy as np\n",
        "\n",
        "heights = [189, 170, 189, 163, 183, 171, 185, 168, 173, 183, 173, 173, 175, 178, 183, 193, 178, 173, 174, 183, 183, 180, 168, 180, 170, 178, 182, 180, 183, 178, 182, 188, 175, 179, 183, 193, 182, 183, 177, 185, 188, 188, 182, 185, 191]\n",
        "ages = [57, 61, 57, 57, 58, 57, 61, 54, 68, 51, 49, 64, 50, 48, 65, 52, 56, 46, 54, 49, 51, 47, 55, 55, 54, 42, 51, 56, 55, 51, 54, 51, 60, 62, 43, 55, 56, 61, 52, 69, 64, 46, 54, 47, 70]\n",
        "\n",
        "heights_arr = np.array(heights)\n",
        "ages_arr = np.array(ages)\n",
        "\n",
        "heights_arr = heights_arr.reshape((1,45))\n",
        "ages_arr = ages_arr.reshape((1,45))\n",
        "\n",
        "height_age_arr = np.vstack((heights_arr, ages_arr))\n",
        "print(height_age_arr.shape)\n",
        "print(height_age_arr[:,:3])"
      ],
      "execution_count": 7,
      "outputs": [
        {
          "output_type": "stream",
          "text": [
            "(2, 45)\n",
            "[[189 170 189]\n",
            " [ 57  61  57]]\n"
          ],
          "name": "stdout"
        }
      ]
    },
    {
      "cell_type": "markdown",
      "metadata": {
        "id": "3ER6zoTgbC7e",
        "colab_type": "text"
      },
      "source": [
        "**Concatenate**\n",
        "En general, podemos usar la función numpy.concatenate. Si queremos concatenar, enlazar, dos matrices a lo largo de las filas, luego pasar 'axis = 1' para lograr el mismo resultado que usando numpy.hstack; y pasar 'axis = 0' si queremos combinar matrices verticalmente.\n",
        "\n",
        "En el ejemplo de la parte anterior, usamos hstack para combinar dos matrices horizontalmente, en su lugar:"
      ]
    },
    {
      "cell_type": "code",
      "metadata": {
        "id": "JdFkr8fnfNJc",
        "colab_type": "code",
        "colab": {
          "base_uri": "https://localhost:8080/",
          "height": 90
        },
        "outputId": "b2aefd63-e074-4fd4-ea03-cd7b5bac2371"
      },
      "source": [
        "\"\"\"\n",
        "In the example from the previous part, we were using hstack to combine two arrays horizontally, instead:\n",
        "\"\"\"\n",
        "import numpy as np\n",
        "\n",
        "heights = [189, 170, 189, 163, 183, 171, 185, 168, 173, 183, 173, 173, 175, 178, 183, 193, 178, 173, 174, 183, 183, 180, 168, 180, 170, 178, 182, 180, 183, 178, 182, 188, 175, 179, 183, 193, 182, 183, 177, 185, 188, 188, 182, 185, 191]\n",
        "ages = [57, 61, 57, 57, 58, 57, 61, 54, 68, 51, 49, 64, 50, 48, 65, 52, 56, 46, 54, 49, 51, 47, 55, 55, 54, 42, 51, 56, 55, 51, 54, 51, 60, 62, 43, 55, 56, 61, 52, 69, 64, 46, 54, 47, 70]\n",
        "\n",
        "heights_arr = np.array(heights)\n",
        "ages_arr = np.array(ages)\n",
        "\n",
        "heights_arr = heights_arr.reshape((45,1))\n",
        "ages_arr = ages_arr.reshape((45,1))\n",
        "\n",
        "# height_age_arr = np.hstack((heights_arr, ages_arr))\n",
        "height_age_arr = np.concatenate((heights_arr, ages_arr), axis=1)\n",
        "\n",
        "print(height_age_arr.shape)\n",
        "print(height_age_arr[:3,:])"
      ],
      "execution_count": 9,
      "outputs": [
        {
          "output_type": "stream",
          "text": [
            "(45, 2)\n",
            "[[189  57]\n",
            " [170  61]\n",
            " [189  57]]\n"
          ],
          "name": "stdout"
        }
      ]
    },
    {
      "cell_type": "markdown",
      "metadata": {
        "id": "qzo-AHZ5fez-",
        "colab_type": "text"
      },
      "source": [
        "Ahora horizantal"
      ]
    },
    {
      "cell_type": "code",
      "metadata": {
        "id": "8rBlwyIMfi0P",
        "colab_type": "code",
        "colab": {
          "base_uri": "https://localhost:8080/",
          "height": 72
        },
        "outputId": "e1e13981-6bb9-48cb-8ea9-057d7515f9e3"
      },
      "source": [
        "\"\"\"\n",
        "You can use np.hstack to concatenate arrays ONLY if they have the same number of rows.\n",
        "\"\"\"\n",
        "import numpy as np\n",
        "\n",
        "heights = [189, 170, 189, 163, 183, 171, 185, 168, 173, 183, 173, 173, 175, 178, 183, 193, 178, 173, 174, 183, 183, 180, 168, 180, 170, 178, 182, 180, 183, 178, 182, 188, 175, 179, 183, 193, 182, 183, 177, 185, 188, 188, 182, 185, 191]\n",
        "ages = [57, 61, 57, 57, 58, 57, 61, 54, 68, 51, 49, 64, 50, 48, 65, 52, 56, 46, 54, 49, 51, 47, 55, 55, 54, 42, 51, 56, 55, 51, 54, 51, 60, 62, 43, 55, 56, 61, 52, 69, 64, 46, 54, 47, 70]\n",
        "\n",
        "heights_arr = np.array(heights)\n",
        "ages_arr = np.array(ages)\n",
        "\n",
        "heights_arr = heights_arr.reshape((1,45))\n",
        "ages_arr = ages_arr.reshape((1,45))\n",
        "\n",
        "#height_age_arr = np.vstack((heights_arr, ages_arr))\n",
        "height_age_arr = np.concatenate((heights_arr, ages_arr), axis=0)\n",
        "\n",
        "print(height_age_arr.shape)\n",
        "print(height_age_arr[:,:3])"
      ],
      "execution_count": 10,
      "outputs": [
        {
          "output_type": "stream",
          "text": [
            "(2, 45)\n",
            "[[189 170 189]\n",
            " [ 57  61  57]]\n"
          ],
          "name": "stdout"
        }
      ]
    }
  ]
}