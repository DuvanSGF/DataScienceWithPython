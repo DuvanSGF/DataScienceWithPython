{
  "nbformat": 4,
  "nbformat_minor": 0,
  "metadata": {
    "colab": {
      "name": "Indexing.ipynb",
      "provenance": [],
      "collapsed_sections": []
    },
    "kernelspec": {
      "name": "python3",
      "display_name": "Python 3"
    }
  },
  "cells": [
    {
      "cell_type": "code",
      "metadata": {
        "id": "b396MBRBsxdn",
        "colab_type": "code",
        "colab": {
          "base_uri": "https://localhost:8080/",
          "height": 35
        },
        "outputId": "627a361a-bb2c-4de3-fa0e-cd67f4b54c0c"
      },
      "source": [
        "\"\"\"\n",
        "Indexing\n",
        "\n",
        "We can use array indexing to select individual elements from arrays. Like Python lists, numpy index starts from 0.\n",
        "\n",
        "To access the height of the 3rd president Thomas Jefferson in the 1darray 'heights_arr':\n",
        "\"\"\"\n",
        "\n",
        "import numpy as np\n",
        "\n",
        "heights = [189, 170, 189, 163, 183, 171, 185, 168, 173, 183, 173, 173, 175, 178, 183, 193, 178, 173, 174, 183, 183, 180, 168, 180, 170, 178, 182, 180, 183, 178, 182, 188, 175, 179, 183, 193, 182, 183, 177, 185, 188, 188, 182, 185, 191]\n",
        "\n",
        "heights_arr = np.array(heights)\n",
        "print(heights_arr[2])"
      ],
      "execution_count": 3,
      "outputs": [
        {
          "output_type": "stream",
          "text": [
            "189\n"
          ],
          "name": "stdout"
        }
      ]
    },
    {
      "cell_type": "code",
      "metadata": {
        "id": "uVlPI3gWum_a",
        "colab_type": "code",
        "colab": {
          "base_uri": "https://localhost:8080/",
          "height": 35
        },
        "outputId": "909c0286-b15f-45a6-e478-b3450550617d"
      },
      "source": [
        "\"\"\"\n",
        "Para encontrar la edad de Thomas Jeferson encontramos \n",
        "como este array es de dos Dimesiones entonces decemos imprimir primero colocanodo la dimension del array y luego la posicion\n",
        "que queremos encontrar. \n",
        "\"\"\"\n",
        "import numpy as np\n",
        "\n",
        "heights = [189, 170, 189, 163, 183, 171, 185, 168, 173, 183, 173, 173, 175, 178, 183, 193, 178, 173, 174, 183, 183, 180, 168, 180, 170, 178, 182, 180, 183, 178, 182, 188, 175, 179, 183, 193, 182, 183, 177, 185, 188, 188, 182, 185, 191]\n",
        "\n",
        "ages = [57, 61, 57, 57, 58, 57, 61, 54, 68, 51, 49, 64, 50, 48, 65, 52, 56, 46, 54, 49, 51, 47, 55, 55, 54, 42, 51, 56, 55, 51, 54, 51, 60, 62, 43, 55, 56, 61, 52, 69, 64, 46, 54, 47, 70]\n",
        "\n",
        "heights_and_ages = heights + ages\n",
        "heights_and_ages_arr = np.array(heights_and_ages)\n",
        "heights_and_ages_arr = heights_and_ages_arr.reshape((2,45))\n",
        "print(heights_and_ages_arr[1,4])\n",
        "\n",
        "\"\"\"\n",
        "In 2darray, the row is axis 0 and the column is axis 1, therefore, to access a 2darray, numpy first looks for the position in rows, then in columns. \n",
        "So in our example heights_and_ages_arr[1,2], we are accessing row 2 (ages), column 3 (third president) to find Thomas Jefferson’s age.\n",
        "\"\"\""
      ],
      "execution_count": 5,
      "outputs": [
        {
          "output_type": "stream",
          "text": [
            "58\n"
          ],
          "name": "stdout"
        }
      ]
    }
  ]
}